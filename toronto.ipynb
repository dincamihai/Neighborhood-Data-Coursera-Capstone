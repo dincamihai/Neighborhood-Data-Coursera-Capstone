{
    "nbformat_minor": 1, 
    "cells": [
        {
            "execution_count": 3, 
            "cell_type": "code", 
            "metadata": {}, 
            "outputs": [], 
            "source": "import re\nimport requests\nfrom bs4 import BeautifulSoup"
        }, 
        {
            "execution_count": 5, 
            "cell_type": "code", 
            "metadata": {}, 
            "outputs": [], 
            "source": "wiki_toronto = BeautifulSoup(requests.get('https://en.wikipedia.org/wiki/List_of_postal_codes_of_Canada:_M').content, 'lxml')"
        }, 
        {
            "execution_count": 8, 
            "cell_type": "code", 
            "metadata": {}, 
            "outputs": [
                {
                    "output_type": "stream", 
                    "name": "stdout", 
                    "text": "North York - Parkwoods\nNorth York - Victoria Village\nDowntown Toronto - Regent Park / Harbourfront\nNorth York - Lawrence Manor / Lawrence Heights\nQueen's Park - None\nEtobicoke - Islington Avenue\nScarborough - Malvern / Rouge\nNorth York - Don Mills\nEast York - Parkview Hill / Woodbine Gardens\nDowntown Toronto - Garden District, Ryerson\nNorth York - Glencairn\nEtobicoke - West Deane Park / Princess Gardens / Martin Grove / Islington / Cloverdale\nScarborough - Rouge Hill / Port Union / Highland Creek\nNorth York - Don Mills\nEast York - Woodbine Heights\nDowntown Toronto - St. James Town\nYork - Humewood-Cedarvale\nEtobicoke - Eringate / Bloordale Gardens / Old Burnhamthorpe / Markland Wood\nScarborough - Guildwood / Morningside / West Hill\nEast Toronto - The Beaches\nDowntown Toronto - Berczy Park\nYork - Caledonia-Fairbanks\nScarborough - Woburn\nEast York - Leaside\nDowntown Toronto - Central Bay Street\nDowntown Toronto - Christie\nScarborough - Cedarbrae\nNorth York - Hillcrest Village\nNorth York - Bathurst Manor / Wilson Heights / Downsview North\nEast York - Thorncliffe Park\nDowntown Toronto - Richmond / Adelaide / King\nWest Toronto - Dufferin / Dovercourt Village\nScarborough - Scarborough Village\nNorth York - Fairview / Henry Farm / Oriole\nNorth York - Northwood Park / York University\nEast York - None\nDowntown Toronto - Harbourfront East / Union Station / Toronto Islands\nWest Toronto - Little Portugal / Trinity\nScarborough - Kennedy Park / Ionview / East Birchmount Park\nNorth York - Bayview Village\nNorth York - Downsview\nEast Toronto - The Danforth West / Riverdale\nDowntown Toronto - Toronto Dominion Centre / Design Exchange\nWest Toronto - Brockton / Parkdale Village / Exhibition Place\nScarborough - Golden Mile / Clairlea / Oakridge\nNorth York - York Mills / Silver Hills\nNorth York - Downsview\nEast Toronto - India Bazaar / The Beaches West\nDowntown Toronto - Commerce Court / Victoria Hotel\nNorth York - North Park / Maple Leaf Park / Upwood Park\nNorth York - Humber Summit\nScarborough - Cliffside / Cliffcrest / Scarborough Village West\nNorth York - Willowdale / Newtonbrook\nNorth York - Downsview\nEast Toronto - Studio District\nNorth York - Bedford Park / Lawrence Manor East\nYork - Del Ray / Mount Dennis / Keelsdale and Silverthorn\nNorth York - Humberlea / Emery\nScarborough - Birch Cliff / Cliffside West\nNorth York - Willowdale\nNorth York - Downsview\nCentral Toronto - Lawrence Park\nCentral Toronto - Roselawn\nYork - Runnymede / The Junction North\nYork - Weston\nScarborough - Dorset Park / Wexford Heights / Scarborough Town Centre\nNorth York - York Mills West\nCentral Toronto - Davisville North\nCentral Toronto - Forest Hill North & West\nWest Toronto - High Park / The Junction South\nEtobicoke - Westmount\nScarborough - Wexford / Maryvale\nNorth York - Willowdale\nCentral Toronto - North Toronto West\nCentral Toronto - The Annex / North Midtown / Yorkville\nWest Toronto - Parkdale / Roncesvalles\nMississauga - None\nEtobicoke - Kingsview Village / St. Phillips / Martin Grove Gardens / Richview Gardens\nScarborough - Agincourt\nCentral Toronto - Davisville\nDowntown Toronto - University of Toronto / Harbord\nWest Toronto - Runnymede / Swansea\nScarborough - Clarks Corners / Tam O'Shanter / Sullivan\nCentral Toronto - Moore Park / Summerhill East\nDowntown Toronto - Kensington Market / Chinatown / Grange Park\nScarborough - Milliken / Agincourt North / Steeles East / L'Amoreaux East\nCentral Toronto - Summerhill West / Rathnelly / South Hill / Forest Hill SE / Deer Park\nDowntown Toronto - CN Tower / King and Spadina / Railway Lands / Harbourfront West / Bathurst Quay / South Niagara / Island airport\nEtobicoke - New Toronto / Mimico South / Humber Bay Shores\nEtobicoke - South Steeles / Silverstone / Humbergate / Jamestown / Mount Olive / Beaumond Heights / Thistletown / Albion Gardens\nScarborough - Steeles West / L'Amoreaux West\nDowntown Toronto - Rosedale\nDowntown Toronto - None\nEtobicoke - Alderwood / Long Branch\nEtobicoke - None\nScarborough - Upper Rouge\nDowntown Toronto - St. James Town / Cabbagetown\nDowntown Toronto - First Canadian Place / Underground city\nEtobicoke - The Kingsway / Montgomery Road / Old Mill North\nDowntown Toronto - Church and Wellesley\nEast Toronto - None\nEtobicoke - Old Mill South / King's Mill Park / Sunnylea / Humber Bay / Mimico NE / The Queensway East / Royal York South East / Kingsway Park South East\nEtobicoke - Mimico NW / The Queensway West / South of Bloor / Kingsway Park South West / Royal York South West\n"
                }
            ], 
            "source": "for item in wiki_toronto.table.find_all('td'):\n    postal_code = item.p.b.text\n    if item.p.span.text == \"Not assigned\":\n        continue\n    match = re.match(\"(?P<borough>.+)(\\s\\((?P<neighborhood>.+)\\))*\", item.p.span.text)\n    \n    if match is None:\n        print(item.p.span.text)\n        break\n        \n    print(\"{0} - {1}\".format(match.group('borough'), match.group('neighborhood')))"
        }, 
        {
            "execution_count": null, 
            "cell_type": "code", 
            "metadata": {}, 
            "outputs": [], 
            "source": ""
        }
    ], 
    "metadata": {
        "kernelspec": {
            "display_name": "Python 3.5", 
            "name": "python3", 
            "language": "python"
        }, 
        "language_info": {
            "mimetype": "text/x-python", 
            "nbconvert_exporter": "python", 
            "version": "3.5.5", 
            "name": "python", 
            "file_extension": ".py", 
            "pygments_lexer": "ipython3", 
            "codemirror_mode": {
                "version": 3, 
                "name": "ipython"
            }
        }
    }, 
    "nbformat": 4
}